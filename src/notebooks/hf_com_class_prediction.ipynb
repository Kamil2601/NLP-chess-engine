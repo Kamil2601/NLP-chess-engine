{
 "cells": [
  {
   "cell_type": "code",
   "execution_count": 1,
   "metadata": {},
   "outputs": [],
   "source": [
    "%reload_ext autoreload\n",
    "%autoreload 2"
   ]
  },
  {
   "cell_type": "code",
   "execution_count": 2,
   "metadata": {},
   "outputs": [],
   "source": [
    "import sys\n",
    "sys.path.append(\"..\")\n",
    "\n",
    "from torch.utils.data import DataLoader\n",
    "from datasets import Dataset, load_from_disk\n",
    "from transformers import AutoTokenizer, DataCollatorWithPadding\n",
    "from utils.utils import load_sql_to_df, save_to_sql\n",
    "import pytorch_lightning as pl\n",
    "from models.lightning import LitHuggingfaceClassifier\n",
    "import torch.nn as nn"
   ]
  },
  {
   "cell_type": "code",
   "execution_count": 3,
   "metadata": {},
   "outputs": [],
   "source": [
    "# checkpoint = \"google/flan-t5-small\"\n",
    "checkpoint = \"distilbert-base-multilingual-cased\"\n",
    "# checkpoint = \"bert-base-multilingual-uncased\"\n",
    "\n",
    "tokenizer = AutoTokenizer.from_pretrained(checkpoint)"
   ]
  },
  {
   "cell_type": "code",
   "execution_count": 15,
   "metadata": {},
   "outputs": [],
   "source": [
    "# model = AutoModelForSequenceClassification.from_pretrained(\"../../models/distillbert-12-18/distilbert-base-multilingual-cased/\")\n",
    "pl_model = LitHuggingfaceClassifier(\"../../models/distillbert-12-31/v1/epoch_2\")"
   ]
  },
  {
   "cell_type": "code",
   "execution_count": 5,
   "metadata": {},
   "outputs": [],
   "source": [
    "chess_database_file = \"../../data/chess_moves_comments_nags.db\"\n",
    "\n",
    "important_columns = [\"fen\", \"move\", \"comment\", \"color_comment\", \"sentiment\"]\n",
    "unlabeled_moves = load_sql_to_df(\"SELECT * FROM unlabeled_moves_with_comments\", chess_database_file)[important_columns]"
   ]
  },
  {
   "cell_type": "code",
   "execution_count": 6,
   "metadata": {},
   "outputs": [
    {
     "data": {
      "text/plain": [
       "Dataset({\n",
       "    features: ['fen', 'move', 'comment', 'color_comment', 'sentiment'],\n",
       "    num_rows: 2667624\n",
       "})"
      ]
     },
     "execution_count": 6,
     "metadata": {},
     "output_type": "execute_result"
    }
   ],
   "source": [
    "unlabeled_dataset = Dataset.from_pandas(unlabeled_moves)\n",
    "unlabeled_dataset"
   ]
  },
  {
   "cell_type": "code",
   "execution_count": 7,
   "metadata": {},
   "outputs": [],
   "source": [
    "tokenizer = AutoTokenizer.from_pretrained(checkpoint)\n",
    "\n",
    "def tokenize_function(example):\n",
    "    return tokenizer(example[\"color_comment\"], truncation=True)\n",
    "\n",
    "def sample_length_function(example):\n",
    "    example[\"length\"] = example[\"input_ids\"].shape[-1]\n",
    "    return example\n",
    "\n",
    "data_collator = DataCollatorWithPadding(tokenizer=tokenizer)\n"
   ]
  },
  {
   "cell_type": "code",
   "execution_count": 8,
   "metadata": {},
   "outputs": [
    {
     "data": {
      "application/vnd.jupyter.widget-view+json": {
       "model_id": "687dbeea53b944328489e1749cf5a0cb",
       "version_major": 2,
       "version_minor": 0
      },
      "text/plain": [
       "Map:   0%|          | 0/2667624 [00:00<?, ? examples/s]"
      ]
     },
     "metadata": {},
     "output_type": "display_data"
    }
   ],
   "source": [
    "\n",
    "unlabeled_tokenized_dataset = unlabeled_dataset.map(tokenize_function, batched=True)\n",
    "# unlabeled_tokenized_dataset.remove_columns([\"comment\", \"sentiment\"])\n",
    "unlabeled_tokenized_dataset.set_format(\"torch\")"
   ]
  },
  {
   "cell_type": "code",
   "execution_count": 9,
   "metadata": {},
   "outputs": [
    {
     "data": {
      "application/vnd.jupyter.widget-view+json": {
       "model_id": "703d9e751e0d4d73ae41566d6343ba36",
       "version_major": 2,
       "version_minor": 0
      },
      "text/plain": [
       "Map:   0%|          | 0/2667624 [00:00<?, ? examples/s]"
      ]
     },
     "metadata": {},
     "output_type": "display_data"
    }
   ],
   "source": [
    "unlabeled_tokenized_dataset = unlabeled_tokenized_dataset.map(sample_length_function, batched=False)\n",
    "unlabeled_tokenized_dataset = unlabeled_tokenized_dataset.sort(\"length\")"
   ]
  },
  {
   "cell_type": "code",
   "execution_count": 10,
   "metadata": {},
   "outputs": [
    {
     "data": {
      "application/vnd.jupyter.widget-view+json": {
       "model_id": "ec8bcd6ae04948f3a0656d258b824d9b",
       "version_major": 2,
       "version_minor": 0
      },
      "text/plain": [
       "Saving the dataset (0/3 shards):   0%|          | 0/2667624 [00:00<?, ? examples/s]"
      ]
     },
     "metadata": {},
     "output_type": "display_data"
    }
   ],
   "source": [
    "unlabeled_tokenized_dataset.save_to_disk(\"../../data/datasets/unlabeled_tokenized_dataset\")"
   ]
  },
  {
   "cell_type": "code",
   "execution_count": 11,
   "metadata": {},
   "outputs": [],
   "source": [
    "unlabeled_tokenized_dataset = Dataset.load_from_disk(\"../../data/datasets/unlabeled_tokenized_dataset\")"
   ]
  },
  {
   "cell_type": "code",
   "execution_count": 12,
   "metadata": {},
   "outputs": [
    {
     "data": {
      "text/plain": [
       "Dataset({\n",
       "    features: ['fen', 'move', 'comment', 'color_comment', 'sentiment', 'input_ids', 'attention_mask', 'length'],\n",
       "    num_rows: 2667624\n",
       "})"
      ]
     },
     "execution_count": 12,
     "metadata": {},
     "output_type": "execute_result"
    }
   ],
   "source": [
    "unlabeled_tokenized_dataset"
   ]
  },
  {
   "cell_type": "code",
   "execution_count": 13,
   "metadata": {},
   "outputs": [],
   "source": [
    "predict_dataset = unlabeled_tokenized_dataset.remove_columns([\"fen\", \"move\", \"comment\", \"color_comment\", \"length\", \"sentiment\"])"
   ]
  },
  {
   "cell_type": "code",
   "execution_count": null,
   "metadata": {},
   "outputs": [],
   "source": [
    "predict_dataset = predict_dataset.remove_columns([\"labels\"])"
   ]
  },
  {
   "cell_type": "code",
   "execution_count": null,
   "metadata": {},
   "outputs": [],
   "source": [
    "predict_dataloader = DataLoader(predict_dataset, collate_fn=data_collator, batch_size=16, shuffle=False)"
   ]
  },
  {
   "cell_type": "code",
   "execution_count": 18,
   "metadata": {},
   "outputs": [
    {
     "name": "stderr",
     "output_type": "stream",
     "text": [
      "GPU available: True (cuda), used: True\n",
      "TPU available: False, using: 0 TPU cores\n",
      "IPU available: False, using: 0 IPUs\n",
      "HPU available: False, using: 0 HPUs\n",
      "Missing logger folder: /home/kamil/Projects/Master-Thesis/src/notebooks/lightning_logs\n",
      "LOCAL_RANK: 0 - CUDA_VISIBLE_DEVICES: [0]\n",
      "/home/kamil/miniconda3/envs/thesis/lib/python3.11/site-packages/pytorch_lightning/trainer/connectors/data_connector.py:441: The 'predict_dataloader' does not have many workers which may be a bottleneck. Consider increasing the value of the `num_workers` argument` to `num_workers=15` in the `DataLoader` to improve performance.\n"
     ]
    },
    {
     "data": {
      "application/vnd.jupyter.widget-view+json": {
       "model_id": "161d1f3d91d040b5989129bd04575059",
       "version_major": 2,
       "version_minor": 0
      },
      "text/plain": [
       "Predicting: |          | 0/? [00:00<?, ?it/s]"
      ]
     },
     "metadata": {},
     "output_type": "display_data"
    }
   ],
   "source": [
    "trainer = pl.Trainer(\n",
    "    accelerator=\"gpu\",\n",
    ")\n",
    "\n",
    "prediction = trainer.predict(pl_model, dataloaders=predict_dataloader)"
   ]
  },
  {
   "cell_type": "code",
   "execution_count": 19,
   "metadata": {},
   "outputs": [],
   "source": [
    "flatten_predictions = [value.item() for batch in prediction for value in batch]"
   ]
  },
  {
   "cell_type": "code",
   "execution_count": 20,
   "metadata": {},
   "outputs": [],
   "source": [
    "predictions_dataset = unlabeled_tokenized_dataset.add_column(\"prediction\", flatten_predictions)"
   ]
  },
  {
   "cell_type": "code",
   "execution_count": 21,
   "metadata": {},
   "outputs": [
    {
     "data": {
      "application/vnd.jupyter.widget-view+json": {
       "model_id": "3c7665ff848048e19b13e3eddb927dac",
       "version_major": 2,
       "version_minor": 0
      },
      "text/plain": [
       "Saving the dataset (0/3 shards):   0%|          | 0/2667624 [00:00<?, ? examples/s]"
      ]
     },
     "metadata": {},
     "output_type": "display_data"
    }
   ],
   "source": [
    "predictions_dataset.save_to_disk(\"../../data/datasets/predictions_dataset\")"
   ]
  },
  {
   "cell_type": "code",
   "execution_count": 22,
   "metadata": {},
   "outputs": [
    {
     "data": {
      "text/plain": [
       "Dataset({\n",
       "    features: ['fen', 'move', 'comment', 'color_comment', 'sentiment', 'input_ids', 'attention_mask', 'length', 'prediction'],\n",
       "    num_rows: 2667624\n",
       "})"
      ]
     },
     "execution_count": 22,
     "metadata": {},
     "output_type": "execute_result"
    }
   ],
   "source": [
    "predictions_dataset"
   ]
  },
  {
   "cell_type": "code",
   "execution_count": 23,
   "metadata": {},
   "outputs": [],
   "source": [
    "predictions_df = predictions_dataset.to_pandas()\n",
    "predictions_df = predictions_df[predictions_df.length > 2]"
   ]
  },
  {
   "cell_type": "code",
   "execution_count": 25,
   "metadata": {},
   "outputs": [
    {
     "data": {
      "text/html": [
       "<div>\n",
       "<style scoped>\n",
       "    .dataframe tbody tr th:only-of-type {\n",
       "        vertical-align: middle;\n",
       "    }\n",
       "\n",
       "    .dataframe tbody tr th {\n",
       "        vertical-align: top;\n",
       "    }\n",
       "\n",
       "    .dataframe thead th {\n",
       "        text-align: right;\n",
       "    }\n",
       "</style>\n",
       "<table border=\"1\" class=\"dataframe\">\n",
       "  <thead>\n",
       "    <tr style=\"text-align: right;\">\n",
       "      <th></th>\n",
       "      <th>fen</th>\n",
       "      <th>move</th>\n",
       "      <th>comment</th>\n",
       "      <th>color_comment</th>\n",
       "      <th>sentiment</th>\n",
       "      <th>input_ids</th>\n",
       "      <th>attention_mask</th>\n",
       "      <th>length</th>\n",
       "      <th>prediction</th>\n",
       "    </tr>\n",
       "  </thead>\n",
       "  <tbody>\n",
       "    <tr>\n",
       "      <th>0</th>\n",
       "      <td>r1b1rb1k/pppp1ppB/2n2q1p/4p3/2P5/P3PN2/1PQP1PP...</td>\n",
       "      <td>h7e4</td>\n",
       "      <td></td>\n",
       "      <td>white [SEP] </td>\n",
       "      <td>-1</td>\n",
       "      <td>[101, 15263, 102, 102]</td>\n",
       "      <td>[1, 1, 1, 1]</td>\n",
       "      <td>4</td>\n",
       "      <td>1</td>\n",
       "    </tr>\n",
       "    <tr>\n",
       "      <th>1</th>\n",
       "      <td>1Nkr4/p3b1pp/1p3p2/2p5/4PB2/2P4N/PP2K1PP/8 b -...</td>\n",
       "      <td>c8b7</td>\n",
       "      <td></td>\n",
       "      <td>black [SEP] </td>\n",
       "      <td>-1</td>\n",
       "      <td>[101, 15045, 102, 102]</td>\n",
       "      <td>[1, 1, 1, 1]</td>\n",
       "      <td>4</td>\n",
       "      <td>1</td>\n",
       "    </tr>\n",
       "    <tr>\n",
       "      <th>2</th>\n",
       "      <td>3r1rk1/1pp3pp/p7/3n2q1/1P2P1P1/P2P1pP1/1BQ2P2/...</td>\n",
       "      <td>d5f6</td>\n",
       "      <td></td>\n",
       "      <td>black [SEP] </td>\n",
       "      <td>-1</td>\n",
       "      <td>[101, 15045, 102, 102]</td>\n",
       "      <td>[1, 1, 1, 1]</td>\n",
       "      <td>4</td>\n",
       "      <td>1</td>\n",
       "    </tr>\n",
       "    <tr>\n",
       "      <th>3</th>\n",
       "      <td>1r1q1rk1/4nppp/3pb3/p3p3/R1B1P3/1PP1N3/5PPP/3Q...</td>\n",
       "      <td>e1g1</td>\n",
       "      <td></td>\n",
       "      <td>white [SEP] </td>\n",
       "      <td>-1</td>\n",
       "      <td>[101, 15263, 102, 102]</td>\n",
       "      <td>[1, 1, 1, 1]</td>\n",
       "      <td>4</td>\n",
       "      <td>1</td>\n",
       "    </tr>\n",
       "    <tr>\n",
       "      <th>4</th>\n",
       "      <td>3r1rk1/1pp1qppp/p1n5/3np2b/1P6/P2PPN1P/1BQ1BPP...</td>\n",
       "      <td>f7f6</td>\n",
       "      <td></td>\n",
       "      <td>black [SEP] </td>\n",
       "      <td>-1</td>\n",
       "      <td>[101, 15045, 102, 102]</td>\n",
       "      <td>[1, 1, 1, 1]</td>\n",
       "      <td>4</td>\n",
       "      <td>1</td>\n",
       "    </tr>\n",
       "    <tr>\n",
       "      <th>...</th>\n",
       "      <td>...</td>\n",
       "      <td>...</td>\n",
       "      <td>...</td>\n",
       "      <td>...</td>\n",
       "      <td>...</td>\n",
       "      <td>...</td>\n",
       "      <td>...</td>\n",
       "      <td>...</td>\n",
       "      <td>...</td>\n",
       "    </tr>\n",
       "    <tr>\n",
       "      <th>2667619</th>\n",
       "      <td>r1bqkbnr/pp1ppp1p/2n3p1/8/3NP3/8/PPP2PPP/RNBQK...</td>\n",
       "      <td>c2c4</td>\n",
       "      <td>Este es la Estructura Lazo de Marï¿½czy -o ten...</td>\n",
       "      <td>white [SEP] Este es la Estructura Lazo de Marï...</td>\n",
       "      <td>-1</td>\n",
       "      <td>[101, 15263, 102, 12515, 10196, 10109, 15596, ...</td>\n",
       "      <td>[1, 1, 1, 1, 1, 1, 1, 1, 1, 1, 1, 1, 1, 1, 1, ...</td>\n",
       "      <td>512</td>\n",
       "      <td>1</td>\n",
       "    </tr>\n",
       "    <tr>\n",
       "      <th>2667620</th>\n",
       "      <td>r1bqkbnr/pp1ppp1p/2n3p1/8/3NP3/8/PPP2PPP/RNBQK...</td>\n",
       "      <td>c2c4</td>\n",
       "      <td>Este es la Estructura Lazo de Marï¿½czy -o ten...</td>\n",
       "      <td>white [SEP] Este es la Estructura Lazo de Marï...</td>\n",
       "      <td>-1</td>\n",
       "      <td>[101, 15263, 102, 12515, 10196, 10109, 15596, ...</td>\n",
       "      <td>[1, 1, 1, 1, 1, 1, 1, 1, 1, 1, 1, 1, 1, 1, 1, ...</td>\n",
       "      <td>512</td>\n",
       "      <td>1</td>\n",
       "    </tr>\n",
       "    <tr>\n",
       "      <th>2667621</th>\n",
       "      <td>r1bqkbnr/pp1ppp1p/2n3p1/8/3NP3/8/PPP2PPP/RNBQK...</td>\n",
       "      <td>c2c4</td>\n",
       "      <td>Este es la Estructura Lazo de Marï¿½czy -o ten...</td>\n",
       "      <td>white [SEP] Este es la Estructura Lazo de Marï...</td>\n",
       "      <td>-1</td>\n",
       "      <td>[101, 15263, 102, 12515, 10196, 10109, 15596, ...</td>\n",
       "      <td>[1, 1, 1, 1, 1, 1, 1, 1, 1, 1, 1, 1, 1, 1, 1, ...</td>\n",
       "      <td>512</td>\n",
       "      <td>1</td>\n",
       "    </tr>\n",
       "    <tr>\n",
       "      <th>2667622</th>\n",
       "      <td>r1bqkbnr/pp1ppp1p/2n3p1/8/3NP3/8/PPP2PPP/RNBQK...</td>\n",
       "      <td>c2c4</td>\n",
       "      <td>Este es la Estructura Lazo de Marï¿½czy -o ten...</td>\n",
       "      <td>white [SEP] Este es la Estructura Lazo de Marï...</td>\n",
       "      <td>-1</td>\n",
       "      <td>[101, 15263, 102, 12515, 10196, 10109, 15596, ...</td>\n",
       "      <td>[1, 1, 1, 1, 1, 1, 1, 1, 1, 1, 1, 1, 1, 1, 1, ...</td>\n",
       "      <td>512</td>\n",
       "      <td>1</td>\n",
       "    </tr>\n",
       "    <tr>\n",
       "      <th>2667623</th>\n",
       "      <td>r1bqkbnr/pp1ppp1p/2n3p1/8/3NP3/8/PPP2PPP/RNBQK...</td>\n",
       "      <td>c2c4</td>\n",
       "      <td>Este es la Estructura Lazo de Marï¿½czy -o ten...</td>\n",
       "      <td>white [SEP] Este es la Estructura Lazo de Marï...</td>\n",
       "      <td>-1</td>\n",
       "      <td>[101, 15263, 102, 12515, 10196, 10109, 15596, ...</td>\n",
       "      <td>[1, 1, 1, 1, 1, 1, 1, 1, 1, 1, 1, 1, 1, 1, 1, ...</td>\n",
       "      <td>512</td>\n",
       "      <td>1</td>\n",
       "    </tr>\n",
       "  </tbody>\n",
       "</table>\n",
       "<p>2667624 rows × 9 columns</p>\n",
       "</div>"
      ],
      "text/plain": [
       "                                                       fen  move  \\\n",
       "0        r1b1rb1k/pppp1ppB/2n2q1p/4p3/2P5/P3PN2/1PQP1PP...  h7e4   \n",
       "1        1Nkr4/p3b1pp/1p3p2/2p5/4PB2/2P4N/PP2K1PP/8 b -...  c8b7   \n",
       "2        3r1rk1/1pp3pp/p7/3n2q1/1P2P1P1/P2P1pP1/1BQ2P2/...  d5f6   \n",
       "3        1r1q1rk1/4nppp/3pb3/p3p3/R1B1P3/1PP1N3/5PPP/3Q...  e1g1   \n",
       "4        3r1rk1/1pp1qppp/p1n5/3np2b/1P6/P2PPN1P/1BQ1BPP...  f7f6   \n",
       "...                                                    ...   ...   \n",
       "2667619  r1bqkbnr/pp1ppp1p/2n3p1/8/3NP3/8/PPP2PPP/RNBQK...  c2c4   \n",
       "2667620  r1bqkbnr/pp1ppp1p/2n3p1/8/3NP3/8/PPP2PPP/RNBQK...  c2c4   \n",
       "2667621  r1bqkbnr/pp1ppp1p/2n3p1/8/3NP3/8/PPP2PPP/RNBQK...  c2c4   \n",
       "2667622  r1bqkbnr/pp1ppp1p/2n3p1/8/3NP3/8/PPP2PPP/RNBQK...  c2c4   \n",
       "2667623  r1bqkbnr/pp1ppp1p/2n3p1/8/3NP3/8/PPP2PPP/RNBQK...  c2c4   \n",
       "\n",
       "                                                   comment  \\\n",
       "0                                                           \n",
       "1                                                           \n",
       "2                                                           \n",
       "3                                                           \n",
       "4                                                           \n",
       "...                                                    ...   \n",
       "2667619  Este es la Estructura Lazo de Marï¿½czy -o ten...   \n",
       "2667620  Este es la Estructura Lazo de Marï¿½czy -o ten...   \n",
       "2667621  Este es la Estructura Lazo de Marï¿½czy -o ten...   \n",
       "2667622  Este es la Estructura Lazo de Marï¿½czy -o ten...   \n",
       "2667623  Este es la Estructura Lazo de Marï¿½czy -o ten...   \n",
       "\n",
       "                                             color_comment  sentiment  \\\n",
       "0                                            white [SEP]          -1   \n",
       "1                                            black [SEP]          -1   \n",
       "2                                            black [SEP]          -1   \n",
       "3                                            white [SEP]          -1   \n",
       "4                                            black [SEP]          -1   \n",
       "...                                                    ...        ...   \n",
       "2667619  white [SEP] Este es la Estructura Lazo de Marï...         -1   \n",
       "2667620  white [SEP] Este es la Estructura Lazo de Marï...         -1   \n",
       "2667621  white [SEP] Este es la Estructura Lazo de Marï...         -1   \n",
       "2667622  white [SEP] Este es la Estructura Lazo de Marï...         -1   \n",
       "2667623  white [SEP] Este es la Estructura Lazo de Marï...         -1   \n",
       "\n",
       "                                                 input_ids  \\\n",
       "0                                   [101, 15263, 102, 102]   \n",
       "1                                   [101, 15045, 102, 102]   \n",
       "2                                   [101, 15045, 102, 102]   \n",
       "3                                   [101, 15263, 102, 102]   \n",
       "4                                   [101, 15045, 102, 102]   \n",
       "...                                                    ...   \n",
       "2667619  [101, 15263, 102, 12515, 10196, 10109, 15596, ...   \n",
       "2667620  [101, 15263, 102, 12515, 10196, 10109, 15596, ...   \n",
       "2667621  [101, 15263, 102, 12515, 10196, 10109, 15596, ...   \n",
       "2667622  [101, 15263, 102, 12515, 10196, 10109, 15596, ...   \n",
       "2667623  [101, 15263, 102, 12515, 10196, 10109, 15596, ...   \n",
       "\n",
       "                                            attention_mask  length  prediction  \n",
       "0                                             [1, 1, 1, 1]       4           1  \n",
       "1                                             [1, 1, 1, 1]       4           1  \n",
       "2                                             [1, 1, 1, 1]       4           1  \n",
       "3                                             [1, 1, 1, 1]       4           1  \n",
       "4                                             [1, 1, 1, 1]       4           1  \n",
       "...                                                    ...     ...         ...  \n",
       "2667619  [1, 1, 1, 1, 1, 1, 1, 1, 1, 1, 1, 1, 1, 1, 1, ...     512           1  \n",
       "2667620  [1, 1, 1, 1, 1, 1, 1, 1, 1, 1, 1, 1, 1, 1, 1, ...     512           1  \n",
       "2667621  [1, 1, 1, 1, 1, 1, 1, 1, 1, 1, 1, 1, 1, 1, 1, ...     512           1  \n",
       "2667622  [1, 1, 1, 1, 1, 1, 1, 1, 1, 1, 1, 1, 1, 1, 1, ...     512           1  \n",
       "2667623  [1, 1, 1, 1, 1, 1, 1, 1, 1, 1, 1, 1, 1, 1, 1, ...     512           1  \n",
       "\n",
       "[2667624 rows x 9 columns]"
      ]
     },
     "execution_count": 25,
     "metadata": {},
     "output_type": "execute_result"
    }
   ],
   "source": [
    "predictions_df"
   ]
  },
  {
   "cell_type": "code",
   "execution_count": 27,
   "metadata": {},
   "outputs": [],
   "source": [
    "predictions_df_to_save = predictions_df[predictions_df.length > 4][[\"fen\", \"move\", \"comment\", \"color_comment\", \"prediction\"]]\n",
    "predictions_df_to_save = predictions_df_to_save.rename(columns={\"prediction\": \"sentiment\"})"
   ]
  },
  {
   "cell_type": "code",
   "execution_count": 28,
   "metadata": {},
   "outputs": [
    {
     "data": {
      "text/html": [
       "<div>\n",
       "<style scoped>\n",
       "    .dataframe tbody tr th:only-of-type {\n",
       "        vertical-align: middle;\n",
       "    }\n",
       "\n",
       "    .dataframe tbody tr th {\n",
       "        vertical-align: top;\n",
       "    }\n",
       "\n",
       "    .dataframe thead th {\n",
       "        text-align: right;\n",
       "    }\n",
       "</style>\n",
       "<table border=\"1\" class=\"dataframe\">\n",
       "  <thead>\n",
       "    <tr style=\"text-align: right;\">\n",
       "      <th></th>\n",
       "      <th>fen</th>\n",
       "      <th>move</th>\n",
       "      <th>comment</th>\n",
       "      <th>color_comment</th>\n",
       "      <th>sentiment</th>\n",
       "    </tr>\n",
       "  </thead>\n",
       "  <tbody>\n",
       "    <tr>\n",
       "      <th>96</th>\n",
       "      <td>r2qkb1r/1p1b1ppp/p1nppn2/6B1/B3P3/2PQ1N2/PP3PP...</td>\n",
       "      <td>f8e7</td>\n",
       "      <td>N</td>\n",
       "      <td>black [SEP] N</td>\n",
       "      <td>1</td>\n",
       "    </tr>\n",
       "    <tr>\n",
       "      <th>97</th>\n",
       "      <td>r1b1k2r/ppp1nppp/5q2/2bpn3/3NP3/2P1B3/PP2BPPP/...</td>\n",
       "      <td>e8g8</td>\n",
       "      <td>N</td>\n",
       "      <td>black [SEP] N</td>\n",
       "      <td>1</td>\n",
       "    </tr>\n",
       "    <tr>\n",
       "      <th>98</th>\n",
       "      <td>3qr1k1/1br1bpp1/p4n1p/1p1pNR2/3P3B/P1N1P3/1P2Q...</td>\n",
       "      <td>b7c8</td>\n",
       "      <td>#</td>\n",
       "      <td>black [SEP] #</td>\n",
       "      <td>1</td>\n",
       "    </tr>\n",
       "    <tr>\n",
       "      <th>99</th>\n",
       "      <td>rnb4r/pp1pk1bp/1qpN1pp1/8/3P4/5N2/PPP2PPP/1R1Q...</td>\n",
       "      <td>d6c4</td>\n",
       "      <td>@</td>\n",
       "      <td>white [SEP] @</td>\n",
       "      <td>1</td>\n",
       "    </tr>\n",
       "    <tr>\n",
       "      <th>100</th>\n",
       "      <td>r4rk1/ppp1npb1/6pp/q2Pp3/2P5/1P2B2P/P3NPP1/R2Q...</td>\n",
       "      <td>d1d2</td>\n",
       "      <td>M</td>\n",
       "      <td>white [SEP] M</td>\n",
       "      <td>1</td>\n",
       "    </tr>\n",
       "    <tr>\n",
       "      <th>...</th>\n",
       "      <td>...</td>\n",
       "      <td>...</td>\n",
       "      <td>...</td>\n",
       "      <td>...</td>\n",
       "      <td>...</td>\n",
       "    </tr>\n",
       "    <tr>\n",
       "      <th>2667619</th>\n",
       "      <td>r1bqkbnr/pp1ppp1p/2n3p1/8/3NP3/8/PPP2PPP/RNBQK...</td>\n",
       "      <td>c2c4</td>\n",
       "      <td>Este es la Estructura Lazo de Marï¿½czy -o ten...</td>\n",
       "      <td>white [SEP] Este es la Estructura Lazo de Marï...</td>\n",
       "      <td>1</td>\n",
       "    </tr>\n",
       "    <tr>\n",
       "      <th>2667620</th>\n",
       "      <td>r1bqkbnr/pp1ppp1p/2n3p1/8/3NP3/8/PPP2PPP/RNBQK...</td>\n",
       "      <td>c2c4</td>\n",
       "      <td>Este es la Estructura Lazo de Marï¿½czy -o ten...</td>\n",
       "      <td>white [SEP] Este es la Estructura Lazo de Marï...</td>\n",
       "      <td>1</td>\n",
       "    </tr>\n",
       "    <tr>\n",
       "      <th>2667621</th>\n",
       "      <td>r1bqkbnr/pp1ppp1p/2n3p1/8/3NP3/8/PPP2PPP/RNBQK...</td>\n",
       "      <td>c2c4</td>\n",
       "      <td>Este es la Estructura Lazo de Marï¿½czy -o ten...</td>\n",
       "      <td>white [SEP] Este es la Estructura Lazo de Marï...</td>\n",
       "      <td>1</td>\n",
       "    </tr>\n",
       "    <tr>\n",
       "      <th>2667622</th>\n",
       "      <td>r1bqkbnr/pp1ppp1p/2n3p1/8/3NP3/8/PPP2PPP/RNBQK...</td>\n",
       "      <td>c2c4</td>\n",
       "      <td>Este es la Estructura Lazo de Marï¿½czy -o ten...</td>\n",
       "      <td>white [SEP] Este es la Estructura Lazo de Marï...</td>\n",
       "      <td>1</td>\n",
       "    </tr>\n",
       "    <tr>\n",
       "      <th>2667623</th>\n",
       "      <td>r1bqkbnr/pp1ppp1p/2n3p1/8/3NP3/8/PPP2PPP/RNBQK...</td>\n",
       "      <td>c2c4</td>\n",
       "      <td>Este es la Estructura Lazo de Marï¿½czy -o ten...</td>\n",
       "      <td>white [SEP] Este es la Estructura Lazo de Marï...</td>\n",
       "      <td>1</td>\n",
       "    </tr>\n",
       "  </tbody>\n",
       "</table>\n",
       "<p>2667528 rows × 5 columns</p>\n",
       "</div>"
      ],
      "text/plain": [
       "                                                       fen  move  \\\n",
       "96       r2qkb1r/1p1b1ppp/p1nppn2/6B1/B3P3/2PQ1N2/PP3PP...  f8e7   \n",
       "97       r1b1k2r/ppp1nppp/5q2/2bpn3/3NP3/2P1B3/PP2BPPP/...  e8g8   \n",
       "98       3qr1k1/1br1bpp1/p4n1p/1p1pNR2/3P3B/P1N1P3/1P2Q...  b7c8   \n",
       "99       rnb4r/pp1pk1bp/1qpN1pp1/8/3P4/5N2/PPP2PPP/1R1Q...  d6c4   \n",
       "100      r4rk1/ppp1npb1/6pp/q2Pp3/2P5/1P2B2P/P3NPP1/R2Q...  d1d2   \n",
       "...                                                    ...   ...   \n",
       "2667619  r1bqkbnr/pp1ppp1p/2n3p1/8/3NP3/8/PPP2PPP/RNBQK...  c2c4   \n",
       "2667620  r1bqkbnr/pp1ppp1p/2n3p1/8/3NP3/8/PPP2PPP/RNBQK...  c2c4   \n",
       "2667621  r1bqkbnr/pp1ppp1p/2n3p1/8/3NP3/8/PPP2PPP/RNBQK...  c2c4   \n",
       "2667622  r1bqkbnr/pp1ppp1p/2n3p1/8/3NP3/8/PPP2PPP/RNBQK...  c2c4   \n",
       "2667623  r1bqkbnr/pp1ppp1p/2n3p1/8/3NP3/8/PPP2PPP/RNBQK...  c2c4   \n",
       "\n",
       "                                                   comment  \\\n",
       "96                                                       N   \n",
       "97                                                       N   \n",
       "98                                                       #   \n",
       "99                                                       @   \n",
       "100                                                      M   \n",
       "...                                                    ...   \n",
       "2667619  Este es la Estructura Lazo de Marï¿½czy -o ten...   \n",
       "2667620  Este es la Estructura Lazo de Marï¿½czy -o ten...   \n",
       "2667621  Este es la Estructura Lazo de Marï¿½czy -o ten...   \n",
       "2667622  Este es la Estructura Lazo de Marï¿½czy -o ten...   \n",
       "2667623  Este es la Estructura Lazo de Marï¿½czy -o ten...   \n",
       "\n",
       "                                             color_comment  sentiment  \n",
       "96                                           black [SEP] N          1  \n",
       "97                                           black [SEP] N          1  \n",
       "98                                           black [SEP] #          1  \n",
       "99                                           white [SEP] @          1  \n",
       "100                                          white [SEP] M          1  \n",
       "...                                                    ...        ...  \n",
       "2667619  white [SEP] Este es la Estructura Lazo de Marï...          1  \n",
       "2667620  white [SEP] Este es la Estructura Lazo de Marï...          1  \n",
       "2667621  white [SEP] Este es la Estructura Lazo de Marï...          1  \n",
       "2667622  white [SEP] Este es la Estructura Lazo de Marï...          1  \n",
       "2667623  white [SEP] Este es la Estructura Lazo de Marï...          1  \n",
       "\n",
       "[2667528 rows x 5 columns]"
      ]
     },
     "execution_count": 28,
     "metadata": {},
     "output_type": "execute_result"
    }
   ],
   "source": [
    "predictions_df_to_save"
   ]
  },
  {
   "cell_type": "code",
   "execution_count": null,
   "metadata": {},
   "outputs": [],
   "source": [
    "save_to_sql(predictions_df_to_save, \"../../data/chess_moves_comments_nags.db\", \"predicted_moves_with_comments\", if_exists=\"replace\")"
   ]
  },
  {
   "cell_type": "code",
   "execution_count": null,
   "metadata": {},
   "outputs": [],
   "source": []
  }
 ],
 "metadata": {
  "kernelspec": {
   "display_name": "thesis",
   "language": "python",
   "name": "python3"
  },
  "language_info": {
   "codemirror_mode": {
    "name": "ipython",
    "version": 3
   },
   "file_extension": ".py",
   "mimetype": "text/x-python",
   "name": "python",
   "nbconvert_exporter": "python",
   "pygments_lexer": "ipython3",
   "version": "3.11.5"
  }
 },
 "nbformat": 4,
 "nbformat_minor": 2
}
